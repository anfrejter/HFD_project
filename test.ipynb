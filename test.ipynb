{
 "cells": [
  {
   "cell_type": "code",
   "execution_count": 14,
   "metadata": {},
   "outputs": [],
   "source": [
    "import subprocess\n",
    "import time\n",
    "import csv\n",
    "import optuna\n",
    "import pandas as pd\n",
    "\n",
    "PARAMS_PATH = 'results/ma/ma_params.csv'\n",
    "RESULTS_PATH = 'results/ma/ma_results.csv'\n",
    "\n",
    "params = ['slow_ma', 'fast_ma']\n",
    "\n",
    "def add_params(slow_ma, fast_ma):\n",
    "    with open(PARAMS_PATH, mode='w', newline='') as f:\n",
    "        writer = csv.writer(f)\n",
    "        writer.writerow(params)\n",
    "        writer.writerow([slow_ma, fast_ma])\n",
    "\n",
    "def read_scores(slow_ma, fast_ma):\n",
    "    tmp = pd.read_csv(RESULTS_PATH).query(f\"slow_ma == {slow_ma} and fast_ma == {fast_ma}\")\n",
    "    while tmp.shape[0] < 1:\n",
    "        tmp = pd.read_csv(RESULTS_PATH).query(f\"slow_ma == {slow_ma} and fast_ma == {fast_ma}\")\n",
    "        time.sleep(0.1)\n",
    "    return tmp['stats_mm'].mean()\n",
    "\n",
    "def objective(trial):\n",
    "\n",
    "    slow_ma = trial.suggest_int('slow_ma', 10, 100)\n",
    "    fast_ma = trial.suggest_int('fast_ma', 1, 50)\n",
    "\n",
    "    add_params(slow_ma, fast_ma)\n",
    "    subprocess.check_call([\"Rscript\",\"helpers/run_strat_ma.R\"],shell=False,stdout=subprocess.DEVNULL, stderr=subprocess.DEVNULL)\n",
    "    score = read_scores(slow_ma, fast_ma)\n",
    "    return score"
   ]
  },
  {
   "cell_type": "code",
   "execution_count": 15,
   "metadata": {},
   "outputs": [
    {
     "name": "stderr",
     "output_type": "stream",
     "text": [
      "[I 2025-01-17 22:59:03,787] A new study created in memory with name: no-name-0a0891a1-0057-4ff3-97f8-7572d3d0d751\n"
     ]
    },
    {
     "data": {
      "application/vnd.jupyter.widget-view+json": {
       "model_id": "55c42258457540639ed430f4a92f6b08",
       "version_major": 2,
       "version_minor": 0
      },
      "text/plain": [
       "  0%|          | 0/10 [00:00<?, ?it/s]"
      ]
     },
     "metadata": {},
     "output_type": "display_data"
    },
    {
     "name": "stdout",
     "output_type": "stream",
     "text": [
      "[I 2025-01-17 22:59:04,370] Trial 0 finished with value: 1.4723974209607695 and parameters: {'slow_ma': 54, 'fast_ma': 3}. Best is trial 0 with value: 1.4723974209607695.\n",
      "[I 2025-01-17 22:59:04,913] Trial 1 finished with value: 2.4910173802664457 and parameters: {'slow_ma': 98, 'fast_ma': 23}. Best is trial 1 with value: 2.4910173802664457.\n",
      "[I 2025-01-17 22:59:05,461] Trial 2 finished with value: -0.8662918123490476 and parameters: {'slow_ma': 19, 'fast_ma': 42}. Best is trial 1 with value: 2.4910173802664457.\n",
      "[I 2025-01-17 22:59:06,009] Trial 3 finished with value: 3.6891207377284183 and parameters: {'slow_ma': 66, 'fast_ma': 20}. Best is trial 3 with value: 3.6891207377284183.\n",
      "[I 2025-01-17 22:59:06,536] Trial 4 finished with value: 1.0753807263782156 and parameters: {'slow_ma': 56, 'fast_ma': 3}. Best is trial 3 with value: 3.6891207377284183.\n",
      "[I 2025-01-17 22:59:07,074] Trial 5 finished with value: -1.881287835772935 and parameters: {'slow_ma': 15, 'fast_ma': 47}. Best is trial 3 with value: 3.6891207377284183.\n",
      "[I 2025-01-17 22:59:07,590] Trial 6 finished with value: 1.25876078686184 and parameters: {'slow_ma': 78, 'fast_ma': 13}. Best is trial 3 with value: 3.6891207377284183.\n",
      "[I 2025-01-17 22:59:08,110] Trial 7 finished with value: 9.30048765189787 and parameters: {'slow_ma': 33, 'fast_ma': 11}. Best is trial 7 with value: 9.30048765189787.\n",
      "[I 2025-01-17 22:59:08,636] Trial 8 finished with value: 6.09328690245561 and parameters: {'slow_ma': 38, 'fast_ma': 13}. Best is trial 7 with value: 9.30048765189787.\n",
      "[I 2025-01-17 22:59:09,181] Trial 9 finished with value: 0.3827737558402536 and parameters: {'slow_ma': 63, 'fast_ma': 46}. Best is trial 7 with value: 9.30048765189787.\n",
      "{'slow_ma': 33, 'fast_ma': 11}\n"
     ]
    }
   ],
   "source": [
    "study = optuna.create_study(direction='maximize')\n",
    "study.optimize(objective, n_trials=10, show_progress_bar=True, study_name='Moving Average Strategy')\n",
    "print(study.best_params)"
   ]
  }
 ],
 "metadata": {
  "kernelspec": {
   "display_name": "base",
   "language": "python",
   "name": "python3"
  },
  "language_info": {
   "codemirror_mode": {
    "name": "ipython",
    "version": 3
   },
   "file_extension": ".py",
   "mimetype": "text/x-python",
   "name": "python",
   "nbconvert_exporter": "python",
   "pygments_lexer": "ipython3",
   "version": "3.11.5"
  }
 },
 "nbformat": 4,
 "nbformat_minor": 2
}
